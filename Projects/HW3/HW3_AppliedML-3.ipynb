{
 "cells": [
  {
   "cell_type": "code",
   "execution_count": 22,
   "metadata": {},
   "outputs": [],
   "source": [
    "#Import the libraries\n",
    "import pandas as pd\n",
    "import numpy as np\n",
    "from sklearn.decomposition import PCA\n"
   ]
  },
  {
   "cell_type": "code",
   "execution_count": 23,
   "metadata": {},
   "outputs": [],
   "source": [
    "\n",
    "x_noiseless=pd.read_csv('iris.csv').values\n",
    "\n"
   ]
  },
  {
   "cell_type": "code",
   "execution_count": 24,
   "metadata": {},
   "outputs": [],
   "source": [
    "#The function is using  mean and varience of the noiseless data set\n",
    "def covariance_noiseless(file_name):\n",
    "    mse_noiseless=[]\n",
    "    #array for mean sqaure error\n",
    "    \n",
    "    noisy=pd.read_csv(file_name).values\n",
    "    for i in range(5):\n",
    "        pca=PCA(n_components=i)\n",
    "        #creating the pca object\n",
    "        temp=pca.fit(x_noiseless)\n",
    "        # do the fit function on the noiseless data\n",
    "        noisy_transform=pca.transform(noisy)\n",
    "        \n",
    "        reconstruction=pca.inverse_transform(noisy_transform)\n",
    "        mse=np.sum((x_noiseless-reconstruction)**2)/150\n",
    "        #formula for calculating mean square error\n",
    "        \n",
    "        mse_noiseless.append(mse)\n",
    "    return mse_noiseless"
   ]
  },
  {
   "cell_type": "code",
   "execution_count": 25,
   "metadata": {},
   "outputs": [
    {
     "name": "stdout",
     "output_type": "stream",
     "text": [
      "                ***************The mean and covariance matrix from noiseless Datasets*********\n",
      "The mean square error between Noisless and Noisy Datasets with respective principle components for Dataset 1 [4.5424706666666665, 0.3834503115049846, 0.17556300024433905, 0.14178364800457022, 0.1608383618076382]\n",
      "The mean square error between Noisless and Noisy Datasets with respective principle components for Dataset 2 [4.5424706666666665, 0.6410931849009849, 0.7156284875049567, 0.908392907398275, 1.115657857849309]\n",
      "The mean square error between Noisless and Noisy Datasets with respective principle components for Dataset 3 [4.5424706666666665, 1.2903724507598004, 1.9672403923798716, 2.650841135132737, 3.6532797325111104]\n",
      "The mean square error between Noisless and Noisy Datasets with respective principle components for Dataset 4 [4.5424706666666665, 0.7999427437338249, 0.8280825547067433, 0.9849497682406684, 1.1940000000000006]\n",
      "The mean square error between Noisless and Noisy Datasets with respective principle components for Dataset 5 [4.5424706666666665, 1.9177677499460617, 3.331722103940331, 4.548257197249831, 5.13926666666667]\n"
     ]
    }
   ],
   "source": [
    "print(\"                ***************The mean and covariance matrix from noiseless Datasets*********\")\n",
    "\n",
    "print(\"The mean square error between Noisless and Noisy Datasets with respective principle components for Dataset 1\",Noiseless_covariance('dataI.csv'))\n",
    "print(\"The mean square error between Noisless and Noisy Datasets with respective principle components for Dataset 2\",Noiseless_covariance('dataII.csv'))\n",
    "print(\"The mean square error between Noisless and Noisy Datasets with respective principle components for Dataset 3\",Noiseless_covariance('dataIII.csv'))\n",
    "print(\"The mean square error between Noisless and Noisy Datasets with respective principle components for Dataset 4\",Noiseless_covariance('dataIV.csv'))\n",
    "print(\"The mean square error between Noisless and Noisy Datasets with respective principle components for Dataset 5\",Noiseless_covariance('dataV.csv'))\n",
    "\n"
   ]
  },
  {
   "cell_type": "code",
   "execution_count": 26,
   "metadata": {},
   "outputs": [],
   "source": [
    "# The function is using mean and Variance of noisy datasets\n",
    "def noisy_covarience(file_name):\n",
    "    mse_noisy=[]\n",
    "    #array for mean sqaure error\n",
    "    noisy=pd.read_csv(file_name).values\n",
    "    for i in range(5):\n",
    "        pca1=PCA(n_components=i)\n",
    "        # creating the PCA object\n",
    "        temp=pca1.fit_transform(noisy)\n",
    "        reconstruction=pca1.inverse_transform(temp)\n",
    "        mse=np.sum((x_noiseless-reconstruction)**2)/150\n",
    "        #formula for calculating mean square error\n",
    "        mse_noisy.append(mse)\n",
    "        \n",
    "    return mse_noisy\n",
    "    "
   ]
  },
  {
   "cell_type": "code",
   "execution_count": 27,
   "metadata": {},
   "outputs": [
    {
     "name": "stdout",
     "output_type": "stream",
     "text": [
      "                ***************The mean and covariance matrix from noisy Datasets*********\n",
      "The mean square error between Noisless and Noisy Datasets with respective principle components for Dataset 1 [4.543119029074549, 0.38461353395761755, 0.17781528266962576, 0.14444050603137723, 0.16083836180763805]\n",
      "The mean square error between Noisless and Noisy Datasets with respective principle components for Dataset 2 [4.549538992715444, 0.6486421084108523, 0.7506211289999838, 0.9419728192850567, 1.1156578578493082]\n",
      "The mean square error between Noisless and Noisy Datasets with respective principle components for Dataset 3 [4.557472963930545, 1.323462148041876, 2.1197480492819563, 3.027379919975331, 3.6532797325111073]\n",
      "The mean square error between Noisless and Noisy Datasets with respective principle components for Dataset 4 [4.566198666666667, 0.8406141572571982, 1.2070897968259076, 1.2711919671860719, 1.1940000000000006]\n",
      "The mean square error between Noisless and Noisy Datasets with respective principle components for Dataset 5 [4.919928, 2.835679428026428, 4.6514345027170885, 4.971247271525596, 5.139266666666666]\n"
     ]
    }
   ],
   "source": [
    "print(\"                ***************The mean and covariance matrix from noisy Datasets*********\")\n",
    "\n",
    "\n",
    "print(\"The mean square error between Noisless and Noisy Datasets with respective principle components for Dataset 1\",noisy_covarience('dataI.csv'))\n",
    "print(\"The mean square error between Noisless and Noisy Datasets with respective principle components for Dataset 2\",noisy_covarience('dataII.csv'))\n",
    "print(\"The mean square error between Noisless and Noisy Datasets with respective principle components for Dataset 3\",noisy_covarience('dataIII.csv'))\n",
    "print(\"The mean square error between Noisless and Noisy Datasets with respective principle components for Dataset 4\",noisy_covarience('dataIV.csv'))\n",
    "print(\"The mean square error between Noisless and Noisy Datasets with respective principle components for Dataset 5\",noisy_covarience('dataV.csv'))\n",
    "\n"
   ]
  },
  {
   "cell_type": "code",
   "execution_count": 28,
   "metadata": {},
   "outputs": [],
   "source": [
    "#For Creating Kaggle Dataset (Reconstruction of the Dataset)"
   ]
  },
  {
   "cell_type": "code",
   "execution_count": 29,
   "metadata": {},
   "outputs": [],
   "source": [
    "def noisy_kaggle(file_name):\n",
    "    \n",
    "    noisy=pd.read_csv(file_name).values\n",
    "    pca=PCA(n_components=2)\n",
    "    temp=pca.fit_transform(noisy)\n",
    "    reconstruction=pca.inverse_transform(temp)\n",
    "    return reconstruction\n",
    "\n"
   ]
  },
  {
   "cell_type": "code",
   "execution_count": 30,
   "metadata": {},
   "outputs": [],
   "source": [
    "np.savetxt('ts8_recon.csv',noisy_kaggle('dataII.csv'),delimiter=',')"
   ]
  },
  {
   "cell_type": "code",
   "execution_count": 31,
   "metadata": {
    "scrolled": false
   },
   "outputs": [],
   "source": [
    "# creating a CSV file for Numbers"
   ]
  },
  {
   "cell_type": "code",
   "execution_count": 21,
   "metadata": {},
   "outputs": [],
   "source": [
    "X=np.array([Noiseless_covariance('dataI.csv'),Noiseless_covariance('dataII.csv'),Noiseless_covariance('dataIII.csv'),Noiseless_covariance('dataIV.csv'),Noiseless_covariance('dataV.csv')])\n",
    "Y=np.array([noisy_covarience('dataI.csv'),noisy_covarience('dataII.csv'),noisy_covarience('dataIII.csv'),noisy_covarience('dataIV.csv'),noisy_covarience('dataV.csv')])\n",
    "\n",
    "np.savetxt('ts8_numbers.csv',np.concatenate((X,Y),axis=1),delimiter=',')\n",
    "\n",
    "\n",
    "\n",
    "\n",
    "\n",
    "\n",
    "\n",
    "\n",
    "\n",
    "\n"
   ]
  },
  {
   "cell_type": "code",
   "execution_count": null,
   "metadata": {},
   "outputs": [],
   "source": []
  },
  {
   "cell_type": "code",
   "execution_count": null,
   "metadata": {},
   "outputs": [],
   "source": []
  },
  {
   "cell_type": "code",
   "execution_count": null,
   "metadata": {},
   "outputs": [],
   "source": []
  },
  {
   "cell_type": "code",
   "execution_count": null,
   "metadata": {},
   "outputs": [],
   "source": []
  },
  {
   "cell_type": "code",
   "execution_count": null,
   "metadata": {},
   "outputs": [],
   "source": []
  },
  {
   "cell_type": "code",
   "execution_count": null,
   "metadata": {},
   "outputs": [],
   "source": []
  },
  {
   "cell_type": "code",
   "execution_count": null,
   "metadata": {},
   "outputs": [],
   "source": []
  },
  {
   "cell_type": "code",
   "execution_count": null,
   "metadata": {},
   "outputs": [],
   "source": []
  },
  {
   "cell_type": "code",
   "execution_count": null,
   "metadata": {},
   "outputs": [],
   "source": []
  },
  {
   "cell_type": "code",
   "execution_count": null,
   "metadata": {},
   "outputs": [],
   "source": []
  },
  {
   "cell_type": "code",
   "execution_count": null,
   "metadata": {},
   "outputs": [],
   "source": []
  },
  {
   "cell_type": "code",
   "execution_count": null,
   "metadata": {},
   "outputs": [],
   "source": []
  }
 ],
 "metadata": {
  "kernelspec": {
   "display_name": "Python 3",
   "language": "python",
   "name": "python3"
  },
  "language_info": {
   "codemirror_mode": {
    "name": "ipython",
    "version": 3
   },
   "file_extension": ".py",
   "mimetype": "text/x-python",
   "name": "python",
   "nbconvert_exporter": "python",
   "pygments_lexer": "ipython3",
   "version": "3.6.5"
  }
 },
 "nbformat": 4,
 "nbformat_minor": 2
}
